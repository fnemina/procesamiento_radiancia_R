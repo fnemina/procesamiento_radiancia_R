{
 "cells": [
  {
   "cell_type": "code",
   "execution_count": 1,
   "id": "d94e483f-6d9f-41c2-b020-49f6ed5b1e9a",
   "metadata": {},
   "outputs": [],
   "source": [
    "import specdal"
   ]
  },
  {
   "cell_type": "code",
   "execution_count": null,
   "id": "2a1fa9bd-d43a-4330-94c9-8d8093145b05",
   "metadata": {},
   "outputs": [],
   "source": [
    "# Creo la colección para los espectros\n",
    "collection_radiances = specdal.Collection(name=\"Curso introduccion a la teldeteccion\", measure_type=\"tgt_radiance\")\n",
    "\n",
    "# Defino las carpetas con la información\n",
    "main_folder = \"../data/007-20240320-LABCETT/\"\n",
    "sub_folder = \"L0_raw\"\n",
    "folders = [\"medicion_1\"]\n",
    "\n",
    "# Leo los espectros en cada carpeta\n",
    "for folder in folders:\n",
    "    directory = f\"{main_folder}/{folder}/{sub_folder}/\"\n",
    "\n",
    "    collection_radiances.read(directory=directory,         # Directorio con los datos\n",
    "                              ext=['.rad'],                # Extensión de los archivos a leer\n",
    "                              reader=\".asd\",               # Tipo de archivo\n",
    "                              measure_type=\"tgt_radiance\") # Medición de interés\n",
    "    \n",
    "# Elimino la extensión dne los nombres de los espectros\n",
    "for spectra in collection_radiances.spectra:\n",
    "    # Elimino la extensión\n",
    "    spectra.name = spectra.name.replace(\".asd\",\"\")\n",
    "    # Busco y le agrego al punto el nombre\n",
    "    muestra = int(spectra.name.split(\"-\")[-1])//10\n",
    "    #print(spectra.name)\n",
    "    sample = \"sp\" if muestra % 2 == 0 else \"tg\"\n",
    "    spectra.name = spectra.name+f\"-{(muestra-6)//2}-{sample}\"\n",
    "\n",
    "collection_radiances.data.to_csv(\"../data/007-20240320-LABCETT/medicion_1/L1A_rad//007-20240320-LABCETT-rad.csv\")"
   ]
  },
  {
   "cell_type": "code",
   "execution_count": 5,
   "id": "22cd3f96-bfd7-4203-9b9d-f98391955749",
   "metadata": {},
   "outputs": [],
   "source": [
    "# Creo la colección para los espectros\n",
    "collection_radiances = specdal.Collection(name=\"Curso introduccion a la teldeteccion\", measure_type=\"tgt_radiance\")\n",
    "\n",
    "# Defino las carpetas con la información\n",
    "main_folder = \"../data/007-20240320-LABCETT/\"\n",
    "sub_folder = \"L1A_rad\"\n",
    "folders = [\"medicion_1\"]\n",
    "\n",
    "# Leo los espectros en cada carpeta\n",
    "for folder in folders:\n",
    "    directory = f\"{main_folder}/{folder}/{sub_folder}/\"\n",
    "\n",
    "    collection_radiances.read(directory=directory,         # Directorio con los datos\n",
    "                              ext=['.rad'],                # Extensión de los archivos a leer\n",
    "                              reader=\".asd\",               # Tipo de archivo\n",
    "                              measure_type=\"tgt_radiance\") # Medición de interés\n",
    "    \n",
    "# Elimino la extensión dne los nombres de los espectros\n",
    "for spectra in collection_radiances.spectra:\n",
    "    # Elimino la extensión\n",
    "    spectra.name = spectra.name.replace(\".asd\",\"\")\n",
    "    # Busco y le agrego al punto el nombre\n",
    "    muestra = int(spectra.name.split(\"-\")[-1])//10\n",
    "    #print(spectra.name)\n",
    "    sample = \"sp\" if muestra % 2 == 0 else \"tg\"\n",
    "    spectra.name = spectra.name+f\"-{(muestra-6)//2}-{sample}\"\n",
    "\n",
    "collection_radiances.data.to_csv(\"../data/007-20240320-LABCETT/medicion_1/L1A_rad//007-20240320-LABCETT-rad.csv\")"
   ]
  },
  {
   "cell_type": "code",
   "execution_count": 4,
   "id": "ec29e841-66d5-4d71-80d7-3de778cc72c4",
   "metadata": {},
   "outputs": [],
   "source": [
    "# Creo la colección para los espectros\n",
    "collection_radiances = specdal.Collection(name=\"Curso introduccion a la teldeteccion\", measure_type=\"tgt_radiance\")\n",
    "\n",
    "# Defino las carpetas con la información\n",
    "main_folder = \"../data/007-20240320-LABCETT/\"\n",
    "sub_folder = \"L1B_pco\"\n",
    "folders = [\"medicion_1\"]\n",
    "\n",
    "# Leo los espectros en cada carpeta\n",
    "for folder in folders:\n",
    "    directory = f\"{main_folder}/{folder}/{sub_folder}/\"\n",
    "\n",
    "    collection_radiances.read(directory=directory,         # Directorio con los datos\n",
    "                              ext=['.pco'],                # Extensión de los archivos a leer\n",
    "                              reader=\".asd\",               # Tipo de archivo\n",
    "                              measure_type=\"tgt_radiance\") # Medición de interés\n",
    "    \n",
    "# Elimino la extensión dne los nombres de los espectros\n",
    "for spectra in collection_radiances.spectra:\n",
    "    # Elimino la extensión\n",
    "    spectra.name = spectra.name.replace(\".asd.rad\",\"\")\n",
    "    # Busco y le agrego al punto el nombre\n",
    "    muestra = int(spectra.name.split(\"-\")[-1])//10\n",
    "    #print(spectra.name)\n",
    "    sample = \"sp\" if muestra % 2 == 0 else \"tg\"\n",
    "    spectra.name = spectra.name+f\"-{(muestra-6)//2}-{sample}\"\n",
    "\n",
    "collection_radiances.data.to_csv(\"../data/007-20240320-LABCETT/medicion_1/L1B_pco//007-20240320-LABCETT-pco.csv\")"
   ]
  },
  {
   "cell_type": "code",
   "execution_count": null,
   "id": "a59c5b3b-e6d3-43c7-b7d3-399ac347043f",
   "metadata": {},
   "outputs": [],
   "source": []
  }
 ],
 "metadata": {
  "kernelspec": {
   "display_name": "Python 3 (ipykernel)",
   "language": "python",
   "name": "python3"
  },
  "language_info": {
   "codemirror_mode": {
    "name": "ipython",
    "version": 3
   },
   "file_extension": ".py",
   "mimetype": "text/x-python",
   "name": "python",
   "nbconvert_exporter": "python",
   "pygments_lexer": "ipython3",
   "version": "3.11.8"
  }
 },
 "nbformat": 4,
 "nbformat_minor": 5
}
